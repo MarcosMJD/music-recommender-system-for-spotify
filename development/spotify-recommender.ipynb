{
 "cells": [
  {
   "cell_type": "code",
   "execution_count": 1,
   "id": "d4cb1a5b",
   "metadata": {},
   "outputs": [],
   "source": [
    "import pandas as pd\n",
    "from matplotlib import pyplot as plt\n",
    "import seaborn as sns\n",
    "from IPython.display import display"
   ]
  },
  {
   "cell_type": "code",
   "execution_count": 2,
   "id": "cc81f475",
   "metadata": {},
   "outputs": [],
   "source": [
    "DATA_PATH = \"../data/\"\n",
    "DATASET_FILENAME = \"spotify_dataset.csv\"\n",
    "DATASET_PATH = f\"{DATA_PATH}{DATASET_FILENAME}\""
   ]
  },
  {
   "cell_type": "code",
   "execution_count": 3,
   "id": "aacd055c",
   "metadata": {},
   "outputs": [],
   "source": [
    "# Errors are found: example: \"7511e45f2cc6f6e609ae46c15506538c\",\"Glenn Gould\",\"\"Kyllikki\" - Three Lyric Pieces for Piano, Op. 41 - II. Andantino\",\"Instrumenal - Home Listens\""
   ]
  },
  {
   "cell_type": "code",
   "execution_count": 4,
   "id": "7571f84d",
   "metadata": {},
   "outputs": [],
   "source": [
    "df_playlists = pd.read_csv(DATASET_PATH, on_bad_lines=\"skip\")"
   ]
  },
  {
   "cell_type": "code",
   "execution_count": 5,
   "id": "f957822d",
   "metadata": {},
   "outputs": [],
   "source": [
    "with open(f'{DATASET_PATH.replace(\"csv\",\"parquet\")}', mode='wb') as f_out:\n",
    "    df_playlists.to_parquet(f_out)"
   ]
  },
  {
   "cell_type": "code",
   "execution_count": 6,
   "id": "ffa3b038",
   "metadata": {},
   "outputs": [
    {
     "data": {
      "text/html": [
       "<div>\n",
       "<style scoped>\n",
       "    .dataframe tbody tr th:only-of-type {\n",
       "        vertical-align: middle;\n",
       "    }\n",
       "\n",
       "    .dataframe tbody tr th {\n",
       "        vertical-align: top;\n",
       "    }\n",
       "\n",
       "    .dataframe thead th {\n",
       "        text-align: right;\n",
       "    }\n",
       "</style>\n",
       "<table border=\"1\" class=\"dataframe\">\n",
       "  <thead>\n",
       "    <tr style=\"text-align: right;\">\n",
       "      <th></th>\n",
       "      <th>user_id</th>\n",
       "      <th>\"artistname\"</th>\n",
       "      <th>\"trackname\"</th>\n",
       "      <th>\"playlistname\"</th>\n",
       "    </tr>\n",
       "  </thead>\n",
       "  <tbody>\n",
       "    <tr>\n",
       "      <th>0</th>\n",
       "      <td>9cc0cfd4d7d7885102480dd99e7a90d6</td>\n",
       "      <td>Elvis Costello</td>\n",
       "      <td>(The Angels Wanna Wear My) Red Shoes</td>\n",
       "      <td>HARD ROCK 2010</td>\n",
       "    </tr>\n",
       "    <tr>\n",
       "      <th>1</th>\n",
       "      <td>9cc0cfd4d7d7885102480dd99e7a90d6</td>\n",
       "      <td>Elvis Costello &amp; The Attractions</td>\n",
       "      <td>(What's So Funny 'Bout) Peace, Love And Unders...</td>\n",
       "      <td>HARD ROCK 2010</td>\n",
       "    </tr>\n",
       "    <tr>\n",
       "      <th>2</th>\n",
       "      <td>9cc0cfd4d7d7885102480dd99e7a90d6</td>\n",
       "      <td>Tiffany Page</td>\n",
       "      <td>7 Years Too Late</td>\n",
       "      <td>HARD ROCK 2010</td>\n",
       "    </tr>\n",
       "    <tr>\n",
       "      <th>3</th>\n",
       "      <td>9cc0cfd4d7d7885102480dd99e7a90d6</td>\n",
       "      <td>Elvis Costello &amp; The Attractions</td>\n",
       "      <td>Accidents Will Happen</td>\n",
       "      <td>HARD ROCK 2010</td>\n",
       "    </tr>\n",
       "    <tr>\n",
       "      <th>4</th>\n",
       "      <td>9cc0cfd4d7d7885102480dd99e7a90d6</td>\n",
       "      <td>Elvis Costello</td>\n",
       "      <td>Alison</td>\n",
       "      <td>HARD ROCK 2010</td>\n",
       "    </tr>\n",
       "  </tbody>\n",
       "</table>\n",
       "</div>"
      ],
      "text/plain": [
       "                            user_id                      \"artistname\"  \\\n",
       "0  9cc0cfd4d7d7885102480dd99e7a90d6                    Elvis Costello   \n",
       "1  9cc0cfd4d7d7885102480dd99e7a90d6  Elvis Costello & The Attractions   \n",
       "2  9cc0cfd4d7d7885102480dd99e7a90d6                      Tiffany Page   \n",
       "3  9cc0cfd4d7d7885102480dd99e7a90d6  Elvis Costello & The Attractions   \n",
       "4  9cc0cfd4d7d7885102480dd99e7a90d6                    Elvis Costello   \n",
       "\n",
       "                                         \"trackname\"  \"playlistname\"  \n",
       "0               (The Angels Wanna Wear My) Red Shoes  HARD ROCK 2010  \n",
       "1  (What's So Funny 'Bout) Peace, Love And Unders...  HARD ROCK 2010  \n",
       "2                                   7 Years Too Late  HARD ROCK 2010  \n",
       "3                              Accidents Will Happen  HARD ROCK 2010  \n",
       "4                                             Alison  HARD ROCK 2010  "
      ]
     },
     "execution_count": 6,
     "metadata": {},
     "output_type": "execute_result"
    }
   ],
   "source": [
    "df_playlists.head()"
   ]
  },
  {
   "cell_type": "code",
   "execution_count": 7,
   "id": "410d7b8d",
   "metadata": {},
   "outputs": [],
   "source": [
    "df_playlists.columns = df_playlists.columns.str.replace(\"\\\"\", \"\").str.strip().str.replace(\"_\",\"\")"
   ]
  },
  {
   "cell_type": "code",
   "execution_count": 8,
   "id": "53a63e73",
   "metadata": {},
   "outputs": [
    {
     "data": {
      "text/html": [
       "<div>\n",
       "<style scoped>\n",
       "    .dataframe tbody tr th:only-of-type {\n",
       "        vertical-align: middle;\n",
       "    }\n",
       "\n",
       "    .dataframe tbody tr th {\n",
       "        vertical-align: top;\n",
       "    }\n",
       "\n",
       "    .dataframe thead th {\n",
       "        text-align: right;\n",
       "    }\n",
       "</style>\n",
       "<table border=\"1\" class=\"dataframe\">\n",
       "  <thead>\n",
       "    <tr style=\"text-align: right;\">\n",
       "      <th></th>\n",
       "      <th>userid</th>\n",
       "      <th>artistname</th>\n",
       "      <th>trackname</th>\n",
       "      <th>playlistname</th>\n",
       "    </tr>\n",
       "  </thead>\n",
       "  <tbody>\n",
       "    <tr>\n",
       "      <th>0</th>\n",
       "      <td>9cc0cfd4d7d7885102480dd99e7a90d6</td>\n",
       "      <td>Elvis Costello</td>\n",
       "      <td>(The Angels Wanna Wear My) Red Shoes</td>\n",
       "      <td>HARD ROCK 2010</td>\n",
       "    </tr>\n",
       "    <tr>\n",
       "      <th>1</th>\n",
       "      <td>9cc0cfd4d7d7885102480dd99e7a90d6</td>\n",
       "      <td>Elvis Costello &amp; The Attractions</td>\n",
       "      <td>(What's So Funny 'Bout) Peace, Love And Unders...</td>\n",
       "      <td>HARD ROCK 2010</td>\n",
       "    </tr>\n",
       "    <tr>\n",
       "      <th>2</th>\n",
       "      <td>9cc0cfd4d7d7885102480dd99e7a90d6</td>\n",
       "      <td>Tiffany Page</td>\n",
       "      <td>7 Years Too Late</td>\n",
       "      <td>HARD ROCK 2010</td>\n",
       "    </tr>\n",
       "    <tr>\n",
       "      <th>3</th>\n",
       "      <td>9cc0cfd4d7d7885102480dd99e7a90d6</td>\n",
       "      <td>Elvis Costello &amp; The Attractions</td>\n",
       "      <td>Accidents Will Happen</td>\n",
       "      <td>HARD ROCK 2010</td>\n",
       "    </tr>\n",
       "    <tr>\n",
       "      <th>4</th>\n",
       "      <td>9cc0cfd4d7d7885102480dd99e7a90d6</td>\n",
       "      <td>Elvis Costello</td>\n",
       "      <td>Alison</td>\n",
       "      <td>HARD ROCK 2010</td>\n",
       "    </tr>\n",
       "  </tbody>\n",
       "</table>\n",
       "</div>"
      ],
      "text/plain": [
       "                             userid                        artistname  \\\n",
       "0  9cc0cfd4d7d7885102480dd99e7a90d6                    Elvis Costello   \n",
       "1  9cc0cfd4d7d7885102480dd99e7a90d6  Elvis Costello & The Attractions   \n",
       "2  9cc0cfd4d7d7885102480dd99e7a90d6                      Tiffany Page   \n",
       "3  9cc0cfd4d7d7885102480dd99e7a90d6  Elvis Costello & The Attractions   \n",
       "4  9cc0cfd4d7d7885102480dd99e7a90d6                    Elvis Costello   \n",
       "\n",
       "                                           trackname    playlistname  \n",
       "0               (The Angels Wanna Wear My) Red Shoes  HARD ROCK 2010  \n",
       "1  (What's So Funny 'Bout) Peace, Love And Unders...  HARD ROCK 2010  \n",
       "2                                   7 Years Too Late  HARD ROCK 2010  \n",
       "3                              Accidents Will Happen  HARD ROCK 2010  \n",
       "4                                             Alison  HARD ROCK 2010  "
      ]
     },
     "execution_count": 8,
     "metadata": {},
     "output_type": "execute_result"
    }
   ],
   "source": [
    "df_playlists.head()"
   ]
  },
  {
   "cell_type": "code",
   "execution_count": 9,
   "id": "0f9d7ba2",
   "metadata": {},
   "outputs": [
    {
     "data": {
      "text/html": [
       "<div>\n",
       "<style scoped>\n",
       "    .dataframe tbody tr th:only-of-type {\n",
       "        vertical-align: middle;\n",
       "    }\n",
       "\n",
       "    .dataframe tbody tr th {\n",
       "        vertical-align: top;\n",
       "    }\n",
       "\n",
       "    .dataframe thead th {\n",
       "        text-align: right;\n",
       "    }\n",
       "</style>\n",
       "<table border=\"1\" class=\"dataframe\">\n",
       "  <thead>\n",
       "    <tr style=\"text-align: right;\">\n",
       "      <th></th>\n",
       "      <th>userid</th>\n",
       "      <th>artistname</th>\n",
       "      <th>trackname</th>\n",
       "      <th>playlistname</th>\n",
       "    </tr>\n",
       "  </thead>\n",
       "  <tbody>\n",
       "    <tr>\n",
       "      <th>count</th>\n",
       "      <td>12891680</td>\n",
       "      <td>12858112</td>\n",
       "      <td>12891595</td>\n",
       "      <td>12890434</td>\n",
       "    </tr>\n",
       "    <tr>\n",
       "      <th>unique</th>\n",
       "      <td>15918</td>\n",
       "      <td>289821</td>\n",
       "      <td>2032044</td>\n",
       "      <td>157504</td>\n",
       "    </tr>\n",
       "    <tr>\n",
       "      <th>top</th>\n",
       "      <td>4398de6902abde3351347b048fcdc287</td>\n",
       "      <td>Daft Punk</td>\n",
       "      <td>Intro</td>\n",
       "      <td>Starred</td>\n",
       "    </tr>\n",
       "    <tr>\n",
       "      <th>freq</th>\n",
       "      <td>295275</td>\n",
       "      <td>36086</td>\n",
       "      <td>6676</td>\n",
       "      <td>1337085</td>\n",
       "    </tr>\n",
       "  </tbody>\n",
       "</table>\n",
       "</div>"
      ],
      "text/plain": [
       "                                  userid artistname trackname playlistname\n",
       "count                           12891680   12858112  12891595     12890434\n",
       "unique                             15918     289821   2032044       157504\n",
       "top     4398de6902abde3351347b048fcdc287  Daft Punk     Intro      Starred\n",
       "freq                              295275      36086      6676      1337085"
      ]
     },
     "execution_count": 9,
     "metadata": {},
     "output_type": "execute_result"
    }
   ],
   "source": [
    "df_playlists.describe()"
   ]
  },
  {
   "cell_type": "code",
   "execution_count": 10,
   "id": "4dff7997",
   "metadata": {},
   "outputs": [
    {
     "name": "stdout",
     "output_type": "stream",
     "text": [
      "<class 'pandas.core.frame.DataFrame'>\n",
      "RangeIndex: 12891680 entries, 0 to 12891679\n",
      "Data columns (total 4 columns):\n",
      " #   Column        Non-Null Count     Dtype \n",
      "---  ------        --------------     ----- \n",
      " 0   userid        12891680 non-null  object\n",
      " 1   artistname    12858112 non-null  object\n",
      " 2   trackname     12891595 non-null  object\n",
      " 3   playlistname  12890434 non-null  object\n",
      "dtypes: object(4)\n",
      "memory usage: 393.4+ MB\n"
     ]
    },
    {
     "name": "stderr",
     "output_type": "stream",
     "text": [
      "C:\\Users\\MARCOS\\AppData\\Local\\Temp/ipykernel_6344/3880297857.py:1: FutureWarning: null_counts is deprecated. Use show_counts instead\n",
      "  df_playlists.info(null_counts=True)\n"
     ]
    }
   ],
   "source": [
    "df_playlists.info(null_counts=True)"
   ]
  },
  {
   "cell_type": "code",
   "execution_count": 11,
   "id": "2f61fc86",
   "metadata": {},
   "outputs": [
    {
     "data": {
      "text/html": [
       "<div>\n",
       "<style scoped>\n",
       "    .dataframe tbody tr th:only-of-type {\n",
       "        vertical-align: middle;\n",
       "    }\n",
       "\n",
       "    .dataframe tbody tr th {\n",
       "        vertical-align: top;\n",
       "    }\n",
       "\n",
       "    .dataframe thead th {\n",
       "        text-align: right;\n",
       "    }\n",
       "</style>\n",
       "<table border=\"1\" class=\"dataframe\">\n",
       "  <thead>\n",
       "    <tr style=\"text-align: right;\">\n",
       "      <th></th>\n",
       "      <th>userid</th>\n",
       "      <th>artistname</th>\n",
       "      <th>trackname</th>\n",
       "      <th>playlistname</th>\n",
       "    </tr>\n",
       "  </thead>\n",
       "  <tbody>\n",
       "    <tr>\n",
       "      <th>count</th>\n",
       "      <td>295275</td>\n",
       "      <td>295274</td>\n",
       "      <td>295274</td>\n",
       "      <td>295275</td>\n",
       "    </tr>\n",
       "    <tr>\n",
       "      <th>unique</th>\n",
       "      <td>1</td>\n",
       "      <td>21966</td>\n",
       "      <td>191130</td>\n",
       "      <td>29</td>\n",
       "    </tr>\n",
       "    <tr>\n",
       "      <th>top</th>\n",
       "      <td>4398de6902abde3351347b048fcdc287</td>\n",
       "      <td>M83</td>\n",
       "      <td>Ghosts</td>\n",
       "      <td>Starred</td>\n",
       "    </tr>\n",
       "    <tr>\n",
       "      <th>freq</th>\n",
       "      <td>295275</td>\n",
       "      <td>143</td>\n",
       "      <td>28</td>\n",
       "      <td>47362</td>\n",
       "    </tr>\n",
       "  </tbody>\n",
       "</table>\n",
       "</div>"
      ],
      "text/plain": [
       "                                  userid artistname trackname playlistname\n",
       "count                             295275     295274    295274       295275\n",
       "unique                                 1      21966    191130           29\n",
       "top     4398de6902abde3351347b048fcdc287        M83    Ghosts      Starred\n",
       "freq                              295275        143        28        47362"
      ]
     },
     "execution_count": 11,
     "metadata": {},
     "output_type": "execute_result"
    }
   ],
   "source": [
    "df_playlists[df_playlists[\"userid\"] == \"4398de6902abde3351347b048fcdc287\"].describe()"
   ]
  },
  {
   "cell_type": "code",
   "execution_count": 12,
   "id": "56b0d2a5",
   "metadata": {},
   "outputs": [
    {
     "data": {
      "text/plain": [
       "count     12890434\n",
       "unique      157504\n",
       "top        Starred\n",
       "freq       1337085\n",
       "Name: playlistname, dtype: object"
      ]
     },
     "execution_count": 12,
     "metadata": {},
     "output_type": "execute_result"
    }
   ],
   "source": [
    "df_playlists['playlistname'].describe()"
   ]
  },
  {
   "cell_type": "code",
   "execution_count": 13,
   "id": "bb603fe7",
   "metadata": {},
   "outputs": [
    {
     "data": {
      "text/plain": [
       "Starred                  1337085\n",
       "Liked from Radio          180083\n",
       "Favoritas de la radio      30425\n",
       "Rock                       30142\n",
       "2014                       22680\n",
       "Christmas                  22281\n",
       "2013                       20895\n",
       "Work                       18410\n",
       "Jazz                       18291\n",
       "Indie                      17859\n",
       "Classical                  16328\n",
       "everything                 16316\n",
       "Country                    15520\n",
       "New Playlist               15245\n",
       "Music                      14952\n",
       "Generos                    14877\n",
       "Rap                        14506\n",
       "Chill                      13117\n",
       "2012                       13101\n",
       "iPhone                     13086\n",
       "Name: playlistname, dtype: int64"
      ]
     },
     "execution_count": 13,
     "metadata": {},
     "output_type": "execute_result"
    }
   ],
   "source": [
    "df_playlists['playlistname'].value_counts()[0:20]"
   ]
  },
  {
   "cell_type": "code",
   "execution_count": 14,
   "id": "f436520b",
   "metadata": {},
   "outputs": [],
   "source": [
    "# It seems that starred and liked from radio are default playlists, so a kind of outliers"
   ]
  },
  {
   "cell_type": "code",
   "execution_count": 7,
   "id": "21d527cb",
   "metadata": {},
   "outputs": [
    {
     "data": {
      "text/plain": [
       "user_id                0\n",
       " \"artistname\"      33568\n",
       " \"trackname\"          85\n",
       " \"playlistname\"     1246\n",
       "dtype: int64"
      ]
     },
     "execution_count": 7,
     "metadata": {},
     "output_type": "execute_result"
    }
   ],
   "source": [
    "df_playlists.isnull().sum()"
   ]
  },
  {
   "cell_type": "code",
   "execution_count": 9,
   "id": "4cf5a75c",
   "metadata": {},
   "outputs": [],
   "source": [
    "df_playlists[df_playlists.isnull()] = \"\""
   ]
  },
  {
   "cell_type": "code",
   "execution_count": null,
   "id": "3b516212",
   "metadata": {},
   "outputs": [],
   "source": []
  }
 ],
 "metadata": {
  "kernelspec": {
   "display_name": "Python 3.9.7 ('base')",
   "language": "python",
   "name": "python3"
  },
  "language_info": {
   "codemirror_mode": {
    "name": "ipython",
    "version": 3
   },
   "file_extension": ".py",
   "mimetype": "text/x-python",
   "name": "python",
   "nbconvert_exporter": "python",
   "pygments_lexer": "ipython3",
   "version": "3.9.7"
  },
  "vscode": {
   "interpreter": {
    "hash": "81c93a7bf43722fa7c63894895aef7b1dbe0e2bcac982bdbd66e964354c85542"
   }
  }
 },
 "nbformat": 4,
 "nbformat_minor": 5
}
